{
 "cells": [
  {
   "cell_type": "code",
   "execution_count": 1,
   "id": "eecfd567",
   "metadata": {},
   "outputs": [],
   "source": [
    "from mocap import *"
   ]
  },
  {
   "cell_type": "markdown",
   "id": "02c0a2df",
   "metadata": {},
   "source": [
    "# Configuração da analise"
   ]
  },
  {
   "cell_type": "code",
   "execution_count": 2,
   "id": "2dc1e68b",
   "metadata": {},
   "outputs": [],
   "source": [
    "# defina nome do sujeito para armazenamento dos dados\n",
    "id_sujeito = \n",
    "vid_path = \"./dados/frontal/BOTECON_T4.MP4\"\n",
    "known_distance = 0.50\n",
    "fps = 120\n",
    "fliped = True"
   ]
  },
  {
   "cell_type": "markdown",
   "id": "d15bed2d-8589-4836-a43c-743d496bd275",
   "metadata": {},
   "source": [
    "# Procedimentos manuais"
   ]
  },
  {
   "cell_type": "code",
   "execution_count": 5,
   "id": "a7caed37",
   "metadata": {},
   "outputs": [
    {
     "name": "stdout",
     "output_type": "stream",
     "text": [
      "Quebra de exibição. frame  102\n",
      "começo: 3694\n",
      "fim: 4359\n"
     ]
    }
   ],
   "source": [
    "# pressione espaço para marcar o inicio e novamente para marcar o fim do periodo de análise\n",
    "# busque definir o periodo de analise entre o momento em que o sujeito toca definitivamente o suporte para o salto\n",
    "# ate o momento em que ele solta o suporte superior após realizar o salto\n",
    "# veja o video mais de uma vez se necessário\n",
    "# aperte Q para sair do video\n",
    "# caso algum frame apresente problemas, sera indicado junto a frase (quebra de exbição), não há ação relacionada a essa observação\n",
    "periodo_analise = get_analysis_epoch(vid_path,fliped=fliped)"
   ]
  },
  {
   "cell_type": "code",
   "execution_count": 7,
   "id": "a9195e1b",
   "metadata": {},
   "outputs": [],
   "source": [
    "# selecione a area para análise, clique e arraste para selecionar a area do video de forma que apenas fique visivel o sujeito a ser analisado\n",
    "# apos a seleção, aperte qualquer espaço\n",
    "roi = get_roi(vid_path,periodo_analise,fliped=fliped)"
   ]
  },
  {
   "cell_type": "code",
   "execution_count": 8,
   "id": "84a7d8ae",
   "metadata": {},
   "outputs": [],
   "source": [
    "# calibre a distancia medida por uma distancia conhecida no video, para isso:\n",
    "# clique e segure no inicio da barra horiontal em que o sujeito se apoia ao final do bote e arraste ate o final dessa mesma barra\n",
    "# apos, presisone a tecla Q\n",
    "distance_pixels = Calibrator().get_distance_pixels(vid_path,periodo_analise,fliped=fliped)\n",
    "calib_factor = known_distance/distance_pixels"
   ]
  },
  {
   "cell_type": "markdown",
   "id": "071abb9f-02d0-46e6-95be-a2f7575b02a4",
   "metadata": {},
   "source": [
    "# Estimação de pose - automatizado"
   ]
  },
  {
   "cell_type": "code",
   "execution_count": 11,
   "id": "a1d6554b",
   "metadata": {},
   "outputs": [],
   "source": [
    "# rode essa celula para analizar o video - aguarde a janela fechar automaticamente\n",
    "# essa função extrai os dados de cinematica projetada no 2D\n",
    "coords = analyze_video(vid_path,periodo_analise,roi,fliped=fliped)\n",
    "# essa função filtra os sinais com um passa baixa e calibra as distancias\n",
    "coords = process_coords(coords,calib_factor)\n",
    "# calcula os angulos projetados no 2D com os dados obtidos\n",
    "joint_angles = get_joint_angles(articulacoes,coords)"
   ]
  },
  {
   "cell_type": "markdown",
   "id": "6a96d48c-e5dc-4604-a111-497fc3837afc",
   "metadata": {},
   "source": [
    "## exibicao"
   ]
  },
  {
   "cell_type": "code",
   "execution_count": 21,
   "id": "5e13cde4-b610-448e-8046-eb23b2b9c86a",
   "metadata": {},
   "outputs": [
    {
     "data": {
      "text/plain": [
       "(<Figure size 800x500 with 5 Axes>,\n",
       " <matplotlib.animation.FuncAnimation at 0x2a0d89a5160>)"
      ]
     },
     "execution_count": 21,
     "metadata": {},
     "output_type": "execute_result"
    }
   ],
   "source": [
    "%matplotlib qt\n",
    "show_angular_kinematics(coords,roi,fps=120)"
   ]
  },
  {
   "cell_type": "code",
   "execution_count": 22,
   "id": "3ebe762f",
   "metadata": {},
   "outputs": [
    {
     "data": {
      "text/plain": [
       "(<Figure size 800x500 with 4 Axes>,\n",
       " <matplotlib.animation.FuncAnimation at 0x2a0d8a4cc10>)"
      ]
     },
     "execution_count": 22,
     "metadata": {},
     "output_type": "execute_result"
    }
   ],
   "source": [
    "show_linear_kinematics(coords,roi,fps=120)"
   ]
  },
  {
   "cell_type": "code",
   "execution_count": 23,
   "id": "caa72720",
   "metadata": {},
   "outputs": [],
   "source": [
    "save_excel('teste2.xlsx',coords,joint_angles)"
   ]
  },
  {
   "cell_type": "code",
   "execution_count": null,
   "id": "1a38bab0",
   "metadata": {},
   "outputs": [],
   "source": [
    "# cross-corr - quadril - ombro\n",
    "# espaço de fase []"
   ]
  }
 ],
 "metadata": {
  "kernelspec": {
   "display_name": "Python 3 (ipykernel)",
   "language": "python",
   "name": "python3"
  },
  "language_info": {
   "codemirror_mode": {
    "name": "ipython",
    "version": 3
   },
   "file_extension": ".py",
   "mimetype": "text/x-python",
   "name": "python",
   "nbconvert_exporter": "python",
   "pygments_lexer": "ipython3",
   "version": "3.9.18"
  }
 },
 "nbformat": 4,
 "nbformat_minor": 5
}
